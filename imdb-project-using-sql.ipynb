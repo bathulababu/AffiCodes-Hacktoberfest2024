{
 "cells": [
  {
   "cell_type": "code",
   "execution_count": 1,
   "id": "0fea0fcb",
   "metadata": {
    "_cell_guid": "b1076dfc-b9ad-4769-8c92-a6c4dae69d19",
    "_uuid": "8f2839f25d086af736a60e9eeb907d3b93b6e0e5",
    "execution": {
     "iopub.execute_input": "2025-03-22T10:04:21.668052Z",
     "iopub.status.busy": "2025-03-22T10:04:21.667559Z",
     "iopub.status.idle": "2025-03-22T10:04:22.642198Z",
     "shell.execute_reply": "2025-03-22T10:04:22.640789Z"
    },
    "papermill": {
     "duration": 0.985465,
     "end_time": "2025-03-22T10:04:22.644304",
     "exception": false,
     "start_time": "2025-03-22T10:04:21.658839",
     "status": "completed"
    },
    "tags": []
   },
   "outputs": [
    {
     "name": "stdout",
     "output_type": "stream",
     "text": [
      "/kaggle/input/imdb-project-sql/sqlite.9.sql\n",
      "/kaggle/input/imdb-project-sql/IMDB SQL project.txt\n",
      "/kaggle/input/imdb-project-sql/movies.sqlite\n"
     ]
    }
   ],
   "source": [
    "# This Python 3 environment comes with many helpful analytics libraries installed\n",
    "# It is defined by the kaggle/python Docker image: https://github.com/kaggle/docker-python\n",
    "# For example, here's several helpful packages to load\n",
    "\n",
    "import numpy as np # linear algebra\n",
    "import pandas as pd # data processing, CSV file I/O (e.g. pd.read_csv)\n",
    "\n",
    "# Input data files are available in the read-only \"../input/\" directory\n",
    "# For example, running this (by clicking run or pressing Shift+Enter) will list all files under the input directory\n",
    "\n",
    "import os\n",
    "for dirname, _, filenames in os.walk('/kaggle/input'):\n",
    "    for filename in filenames:\n",
    "        print(os.path.join(dirname, filename))\n",
    "\n",
    "# You can write up to 20GB to the current directory (/kaggle/working/) that gets preserved as output when you create a version using \"Save & Run All\" \n",
    "# You can also write temporary files to /kaggle/temp/, but they won't be saved outside of the current session"
   ]
  },
  {
   "cell_type": "markdown",
   "id": "d6a267c9",
   "metadata": {
    "papermill": {
     "duration": 0.006686,
     "end_time": "2025-03-22T10:04:22.658334",
     "exception": false,
     "start_time": "2025-03-22T10:04:22.651648",
     "status": "completed"
    },
    "tags": []
   },
   "source": [
    "# Lets Import the modules"
   ]
  },
  {
   "cell_type": "code",
   "execution_count": 2,
   "id": "fbf54882",
   "metadata": {
    "execution": {
     "iopub.execute_input": "2025-03-22T10:04:22.672313Z",
     "iopub.status.busy": "2025-03-22T10:04:22.671811Z",
     "iopub.status.idle": "2025-03-22T10:04:22.676838Z",
     "shell.execute_reply": "2025-03-22T10:04:22.675523Z"
    },
    "papermill": {
     "duration": 0.014205,
     "end_time": "2025-03-22T10:04:22.678891",
     "exception": false,
     "start_time": "2025-03-22T10:04:22.664686",
     "status": "completed"
    },
    "tags": []
   },
   "outputs": [],
   "source": [
    "import sqlite3 as sql\n",
    "import pandas as pd"
   ]
  },
  {
   "cell_type": "markdown",
   "id": "da0cf7e4",
   "metadata": {
    "papermill": {
     "duration": 0.006588,
     "end_time": "2025-03-22T10:04:22.692226",
     "exception": false,
     "start_time": "2025-03-22T10:04:22.685638",
     "status": "completed"
    },
    "tags": []
   },
   "source": [
    "# Importing movies dataset"
   ]
  },
  {
   "cell_type": "code",
   "execution_count": 3,
   "id": "87ea533c",
   "metadata": {
    "execution": {
     "iopub.execute_input": "2025-03-22T10:04:22.706593Z",
     "iopub.status.busy": "2025-03-22T10:04:22.706129Z",
     "iopub.status.idle": "2025-03-22T10:04:22.719111Z",
     "shell.execute_reply": "2025-03-22T10:04:22.718013Z"
    },
    "papermill": {
     "duration": 0.022083,
     "end_time": "2025-03-22T10:04:22.720938",
     "exception": false,
     "start_time": "2025-03-22T10:04:22.698855",
     "status": "completed"
    },
    "tags": []
   },
   "outputs": [
    {
     "name": "stdout",
     "output_type": "stream",
     "text": [
      "Database is connected!\n"
     ]
    }
   ],
   "source": [
    "Database = '/kaggle/input/imdb-project-sql/movies.sqlite'\n",
    "db = sql.connect(Database)\n",
    "print(\"Database is connected!\")"
   ]
  },
  {
   "cell_type": "markdown",
   "id": "5b1f94b8",
   "metadata": {
    "papermill": {
     "duration": 0.006556,
     "end_time": "2025-03-22T10:04:22.733968",
     "exception": false,
     "start_time": "2025-03-22T10:04:22.727412",
     "status": "completed"
    },
    "tags": []
   },
   "source": [
    "# QUERY 1: Can you get all data about movies?"
   ]
  },
  {
   "cell_type": "code",
   "execution_count": 4,
   "id": "fc56aa4c",
   "metadata": {
    "execution": {
     "iopub.execute_input": "2025-03-22T10:04:22.751516Z",
     "iopub.status.busy": "2025-03-22T10:04:22.751033Z",
     "iopub.status.idle": "2025-03-22T10:04:23.312814Z",
     "shell.execute_reply": "2025-03-22T10:04:23.310979Z"
    },
    "papermill": {
     "duration": 0.572954,
     "end_time": "2025-03-22T10:04:23.314969",
     "exception": false,
     "start_time": "2025-03-22T10:04:22.742015",
     "status": "completed"
    },
    "tags": []
   },
   "outputs": [
    {
     "name": "stdout",
     "output_type": "stream",
     "text": [
      "         id                            original_title     budget  popularity  \\\n",
      "0     43597                                    Avatar  237000000         150   \n",
      "1     43598  Pirates of the Caribbean: At World's End  300000000         139   \n",
      "2     43599                                   Spectre  245000000         107   \n",
      "3     43600                     The Dark Knight Rises  250000000         112   \n",
      "4     43601                               John Carter  260000000          43   \n",
      "...     ...                                       ...        ...         ...   \n",
      "4768  48395                               El Mariachi     220000          14   \n",
      "4769  48396                                 Newlyweds       9000           0   \n",
      "4770  48397                 Signed, Sealed, Delivered          0           1   \n",
      "4771  48398                          Shanghai Calling          0           0   \n",
      "4772  48399                         My Date with Drew          0           1   \n",
      "\n",
      "     release_date     revenue                                     title  \\\n",
      "0      2009-12-10  2787965087                                    Avatar   \n",
      "1      2007-05-19   961000000  Pirates of the Caribbean: At World's End   \n",
      "2      2015-10-26   880674609                                   Spectre   \n",
      "3      2012-07-16  1084939099                     The Dark Knight Rises   \n",
      "4      2012-03-07   284139100                               John Carter   \n",
      "...           ...         ...                                       ...   \n",
      "4768   1992-09-04     2040920                               El Mariachi   \n",
      "4769   2011-12-26           0                                 Newlyweds   \n",
      "4770   2013-10-13           0                 Signed, Sealed, Delivered   \n",
      "4771   2012-05-03           0                          Shanghai Calling   \n",
      "4772   2005-08-05           0                         My Date with Drew   \n",
      "\n",
      "      vote_average  vote_count  \\\n",
      "0              7.2       11800   \n",
      "1              6.9        4500   \n",
      "2              6.3        4466   \n",
      "3              7.6        9106   \n",
      "4              6.1        2124   \n",
      "...            ...         ...   \n",
      "4768           6.6         238   \n",
      "4769           5.9           5   \n",
      "4770           7.0           6   \n",
      "4771           5.7           7   \n",
      "4772           6.3          16   \n",
      "\n",
      "                                               overview  \\\n",
      "0     In the 22nd century, a paraplegic Marine is di...   \n",
      "1     Captain Barbossa, long believed to be dead, ha...   \n",
      "2     A cryptic message from Bond’s past sends him o...   \n",
      "3     Following the death of District Attorney Harve...   \n",
      "4     John Carter is a war-weary, former military ca...   \n",
      "...                                                 ...   \n",
      "4768  El Mariachi just wants to play his guitar and ...   \n",
      "4769  A newlywed couple's honeymoon is upended by th...   \n",
      "4770  \"Signed, Sealed, Delivered\" introduces a dedic...   \n",
      "4771  When ambitious New York attorney Sam is sent t...   \n",
      "4772  Ever since the second grade when he first saw ...   \n",
      "\n",
      "                                                tagline     uid  director_id  \n",
      "0                           Enter the World of Pandora.   19995         4762  \n",
      "1        At the end of the world, the adventure begins.     285         4763  \n",
      "2                                 A Plan No One Escapes  206647         4764  \n",
      "3                                       The Legend Ends   49026         4765  \n",
      "4                  Lost in our world, found in another.   49529         4766  \n",
      "...                                                 ...     ...          ...  \n",
      "4768  He didn't come looking for trouble, but troubl...    9367         5097  \n",
      "4769  A newlywed couple's honeymoon is upended by th...   72766         6485  \n",
      "4770                                               None  231617         7108  \n",
      "4771                           A New Yorker in Shanghai  126186         7109  \n",
      "4772                                               None   25975         7110  \n",
      "\n",
      "[4773 rows x 13 columns]\n"
     ]
    }
   ],
   "source": [
    "q1 = \"\"\"SELECT * FROM MOVIES\"\"\"\n",
    "r1 = pd.read_sql(q1, db)\n",
    "print(r1)"
   ]
  },
  {
   "cell_type": "markdown",
   "id": "0416e5bb",
   "metadata": {
    "papermill": {
     "duration": 0.006672,
     "end_time": "2025-03-22T10:04:23.328666",
     "exception": false,
     "start_time": "2025-03-22T10:04:23.321994",
     "status": "completed"
    },
    "tags": []
   },
   "source": [
    "# QUERY 2: How do you get all data about directors?"
   ]
  },
  {
   "cell_type": "code",
   "execution_count": 5,
   "id": "105cd050",
   "metadata": {
    "execution": {
     "iopub.execute_input": "2025-03-22T10:04:23.344060Z",
     "iopub.status.busy": "2025-03-22T10:04:23.343688Z",
     "iopub.status.idle": "2025-03-22T10:04:23.370063Z",
     "shell.execute_reply": "2025-03-22T10:04:23.368780Z"
    },
    "papermill": {
     "duration": 0.036729,
     "end_time": "2025-03-22T10:04:23.372021",
     "exception": false,
     "start_time": "2025-03-22T10:04:23.335292",
     "status": "completed"
    },
    "tags": []
   },
   "outputs": [
    {
     "name": "stdout",
     "output_type": "stream",
     "text": [
      "                   name    id  gender      uid department\n",
      "0         James Cameron  4762       2     2710  Directing\n",
      "1        Gore Verbinski  4763       2     1704  Directing\n",
      "2            Sam Mendes  4764       2       39  Directing\n",
      "3     Christopher Nolan  4765       2      525  Directing\n",
      "4        Andrew Stanton  4766       2        7  Directing\n",
      "...                 ...   ...     ...      ...        ...\n",
      "2344      Shane Carruth  7106       2    76624  Directing\n",
      "2345   Neill Dela Llana  7107       0  1174437  Directing\n",
      "2346        Scott Smith  7108       0  1219158  Directing\n",
      "2347        Daniel Hsia  7109       2   208138  Directing\n",
      "2348   Brian Herzlinger  7110       2    85563  Directing\n",
      "\n",
      "[2349 rows x 5 columns]\n"
     ]
    }
   ],
   "source": [
    "q2 = \"\"\"SELECT * FROM directors\"\"\"\n",
    "r2 = pd.read_sql(q2, db)\n",
    "print(r2)"
   ]
  },
  {
   "cell_type": "markdown",
   "id": "24c68f18",
   "metadata": {
    "papermill": {
     "duration": 0.006441,
     "end_time": "2025-03-22T10:04:23.385319",
     "exception": false,
     "start_time": "2025-03-22T10:04:23.378878",
     "status": "completed"
    },
    "tags": []
   },
   "source": [
    "# QUERY 3: Check how many movies are present in imdb?"
   ]
  },
  {
   "cell_type": "code",
   "execution_count": 6,
   "id": "b76d0b6f",
   "metadata": {
    "execution": {
     "iopub.execute_input": "2025-03-22T10:04:23.400304Z",
     "iopub.status.busy": "2025-03-22T10:04:23.399910Z",
     "iopub.status.idle": "2025-03-22T10:04:23.874015Z",
     "shell.execute_reply": "2025-03-22T10:04:23.872493Z"
    },
    "papermill": {
     "duration": 0.483681,
     "end_time": "2025-03-22T10:04:23.875898",
     "exception": false,
     "start_time": "2025-03-22T10:04:23.392217",
     "status": "completed"
    },
    "tags": []
   },
   "outputs": [
    {
     "name": "stdout",
     "output_type": "stream",
     "text": [
      "   Number_of_movies\n",
      "0              4773\n"
     ]
    }
   ],
   "source": [
    "q3 = \"\"\"SELECT COUNT(*) AS Number_of_movies FROM MOVIES\"\"\"\n",
    "r3 = pd.read_sql(q3, db)\n",
    "print(r3)"
   ]
  },
  {
   "cell_type": "markdown",
   "id": "03cd0ed6",
   "metadata": {
    "papermill": {
     "duration": 0.006941,
     "end_time": "2025-03-22T10:04:23.889917",
     "exception": false,
     "start_time": "2025-03-22T10:04:23.882976",
     "status": "completed"
    },
    "tags": []
   },
   "source": [
    "# QUERY 4: Find these 3 directors: James Cameron : Luc Besson : Jhon Woo?"
   ]
  },
  {
   "cell_type": "code",
   "execution_count": 7,
   "id": "b35245f5",
   "metadata": {
    "execution": {
     "iopub.execute_input": "2025-03-22T10:04:23.905637Z",
     "iopub.status.busy": "2025-03-22T10:04:23.905215Z",
     "iopub.status.idle": "2025-03-22T10:04:23.926854Z",
     "shell.execute_reply": "2025-03-22T10:04:23.925644Z"
    },
    "papermill": {
     "duration": 0.031518,
     "end_time": "2025-03-22T10:04:23.928769",
     "exception": false,
     "start_time": "2025-03-22T10:04:23.897251",
     "status": "completed"
    },
    "tags": []
   },
   "outputs": [
    {
     "name": "stdout",
     "output_type": "stream",
     "text": [
      "            name    id  gender    uid department\n",
      "0  James Cameron  4762       2   2710  Directing\n",
      "1       John Woo  4893       2  11401  Directing\n",
      "2     Luc Besson  4949       2     59  Directing\n"
     ]
    }
   ],
   "source": [
    "q4 = \"\"\"SELECT * FROM DIRECTORS WHERE name == 'James Cameron' OR name == 'Luc Besson' OR name == 'John Woo'\"\"\"\n",
    "r4 = pd.read_sql(q4, db)\n",
    "print(r4)"
   ]
  },
  {
   "cell_type": "markdown",
   "id": "5396043e",
   "metadata": {
    "papermill": {
     "duration": 0.006357,
     "end_time": "2025-03-22T10:04:23.942409",
     "exception": false,
     "start_time": "2025-03-22T10:04:23.936052",
     "status": "completed"
    },
    "tags": []
   },
   "source": [
    "# QUERY 5: Find all directors with name starting with Steven?"
   ]
  },
  {
   "cell_type": "code",
   "execution_count": 8,
   "id": "7ab9d489",
   "metadata": {
    "execution": {
     "iopub.execute_input": "2025-03-22T10:04:23.957073Z",
     "iopub.status.busy": "2025-03-22T10:04:23.956727Z",
     "iopub.status.idle": "2025-03-22T10:04:23.968803Z",
     "shell.execute_reply": "2025-03-22T10:04:23.967362Z"
    },
    "papermill": {
     "duration": 0.021744,
     "end_time": "2025-03-22T10:04:23.970766",
     "exception": false,
     "start_time": "2025-03-22T10:04:23.949022",
     "status": "completed"
    },
    "tags": []
   },
   "outputs": [
    {
     "name": "stdout",
     "output_type": "stream",
     "text": [
      "                 name    id  gender    uid department\n",
      "0    Steven Spielberg  4799       2    488  Directing\n",
      "1   Steven Soderbergh  4909       2   1884  Directing\n",
      "2        Steven Brill  5013       2  32593  Directing\n",
      "3     Steven Zaillian  5117       2   2260  Directing\n",
      "4        Steven Quale  5216       2  93214  Directing\n",
      "5       Steven Seagal  5221       2  23880  Directing\n",
      "6  Steven E. de Souza  5390       2   1726  Directing\n",
      "7    Steven Shainberg  5803       2  67795  Directing\n",
      "8    Steven R. Monroe  6713       2  88039  Directing\n"
     ]
    }
   ],
   "source": [
    "q5 = \"\"\"SELECT * FROM directors WHERE name LIKE 'Steven%'\"\"\"\n",
    "r5 = pd.read_sql(q5, db)\n",
    "print(r5)"
   ]
  },
  {
   "cell_type": "code",
   "execution_count": 9,
   "id": "f04499da",
   "metadata": {
    "execution": {
     "iopub.execute_input": "2025-03-22T10:04:23.985928Z",
     "iopub.status.busy": "2025-03-22T10:04:23.985523Z",
     "iopub.status.idle": "2025-03-22T10:04:23.995464Z",
     "shell.execute_reply": "2025-03-22T10:04:23.994158Z"
    },
    "papermill": {
     "duration": 0.019672,
     "end_time": "2025-03-22T10:04:23.997394",
     "exception": false,
     "start_time": "2025-03-22T10:04:23.977722",
     "status": "completed"
    },
    "tags": []
   },
   "outputs": [
    {
     "name": "stdout",
     "output_type": "stream",
     "text": [
      "   gender\n",
      "0       2\n",
      "1       0\n",
      "2       1\n"
     ]
    }
   ],
   "source": [
    "qa = \"\"\"SELECT DISTINCT GENDER FROM directors\"\"\"\n",
    "ra = pd.read_sql(qa, db)\n",
    "print(ra)"
   ]
  },
  {
   "cell_type": "markdown",
   "id": "670ce711",
   "metadata": {
    "papermill": {
     "duration": 0.007281,
     "end_time": "2025-03-22T10:04:24.012044",
     "exception": false,
     "start_time": "2025-03-22T10:04:24.004763",
     "status": "completed"
    },
    "tags": []
   },
   "source": [
    "# QUERY 6: Count female directors?"
   ]
  },
  {
   "cell_type": "code",
   "execution_count": 10,
   "id": "b21870d9",
   "metadata": {
    "execution": {
     "iopub.execute_input": "2025-03-22T10:04:24.028555Z",
     "iopub.status.busy": "2025-03-22T10:04:24.028152Z",
     "iopub.status.idle": "2025-03-22T10:04:24.036983Z",
     "shell.execute_reply": "2025-03-22T10:04:24.035833Z"
    },
    "papermill": {
     "duration": 0.019283,
     "end_time": "2025-03-22T10:04:24.038812",
     "exception": false,
     "start_time": "2025-03-22T10:04:24.019529",
     "status": "completed"
    },
    "tags": []
   },
   "outputs": [
    {
     "name": "stdout",
     "output_type": "stream",
     "text": [
      "   Number_of_females\n",
      "0                150\n"
     ]
    }
   ],
   "source": [
    "q6 = \"\"\"SELECT COUNT(*) AS Number_of_females FROM directors WHERE gender == 1\"\"\"\n",
    "r6 = pd.read_sql(q6, db)\n",
    "print(r6)\n"
   ]
  },
  {
   "cell_type": "markdown",
   "id": "6af8abdc",
   "metadata": {
    "papermill": {
     "duration": 0.006977,
     "end_time": "2025-03-22T10:04:24.052964",
     "exception": false,
     "start_time": "2025-03-22T10:04:24.045987",
     "status": "completed"
    },
    "tags": []
   },
   "source": [
    "# QUERY 7: Find the name of the 10th first women directors?"
   ]
  },
  {
   "cell_type": "code",
   "execution_count": 11,
   "id": "50fc883b",
   "metadata": {
    "execution": {
     "iopub.execute_input": "2025-03-22T10:04:24.067992Z",
     "iopub.status.busy": "2025-03-22T10:04:24.067627Z",
     "iopub.status.idle": "2025-03-22T10:04:24.077445Z",
     "shell.execute_reply": "2025-03-22T10:04:24.076160Z"
    },
    "papermill": {
     "duration": 0.019464,
     "end_time": "2025-03-22T10:04:24.079389",
     "exception": false,
     "start_time": "2025-03-22T10:04:24.059925",
     "status": "completed"
    },
    "tags": []
   },
   "outputs": [
    {
     "name": "stdout",
     "output_type": "stream",
     "text": [
      "     id          name\n",
      "0  5174  Karyn Kusama\n"
     ]
    }
   ],
   "source": [
    "q7 = \"\"\"SELECT id, name FROM directors WHERE gender == 1 ORDER BY id LIMIT 1 OFFSET 10 \"\"\"\n",
    "r7 = pd.read_sql(q7, db)\n",
    "print(r7)"
   ]
  },
  {
   "cell_type": "markdown",
   "id": "4c74216c",
   "metadata": {
    "papermill": {
     "duration": 0.007191,
     "end_time": "2025-03-22T10:04:24.094062",
     "exception": false,
     "start_time": "2025-03-22T10:04:24.086871",
     "status": "completed"
    },
    "tags": []
   },
   "source": [
    "# QUERY 8: What are the 3 most popular movies?"
   ]
  },
  {
   "cell_type": "code",
   "execution_count": 12,
   "id": "37b4e07a",
   "metadata": {
    "execution": {
     "iopub.execute_input": "2025-03-22T10:04:24.110301Z",
     "iopub.status.busy": "2025-03-22T10:04:24.109928Z",
     "iopub.status.idle": "2025-03-22T10:04:24.538908Z",
     "shell.execute_reply": "2025-03-22T10:04:24.537824Z"
    },
    "papermill": {
     "duration": 0.439122,
     "end_time": "2025-03-22T10:04:24.540795",
     "exception": false,
     "start_time": "2025-03-22T10:04:24.101673",
     "status": "completed"
    },
    "tags": []
   },
   "outputs": [
    {
     "name": "stdout",
     "output_type": "stream",
     "text": [
      "  original_title\n",
      "0        Minions\n",
      "1   Interstellar\n",
      "2       Deadpool\n"
     ]
    }
   ],
   "source": [
    "q8 = \"\"\"SELECT original_title FROM movies ORDER BY popularity DESC LIMIT 3 \"\"\"\n",
    "r8 = pd.read_sql(q8, db)\n",
    "print(r8)"
   ]
  },
  {
   "cell_type": "markdown",
   "id": "533e1892",
   "metadata": {
    "papermill": {
     "duration": 0.006591,
     "end_time": "2025-03-22T10:04:24.554696",
     "exception": false,
     "start_time": "2025-03-22T10:04:24.548105",
     "status": "completed"
    },
    "tags": []
   },
   "source": [
    "# QUERY 9: What are the 3 most bankable movies?"
   ]
  },
  {
   "cell_type": "code",
   "execution_count": 13,
   "id": "5ef4bef6",
   "metadata": {
    "execution": {
     "iopub.execute_input": "2025-03-22T10:04:24.569827Z",
     "iopub.status.busy": "2025-03-22T10:04:24.569459Z",
     "iopub.status.idle": "2025-03-22T10:04:24.993709Z",
     "shell.execute_reply": "2025-03-22T10:04:24.992482Z"
    },
    "papermill": {
     "duration": 0.434093,
     "end_time": "2025-03-22T10:04:24.995622",
     "exception": false,
     "start_time": "2025-03-22T10:04:24.561529",
     "status": "completed"
    },
    "tags": []
   },
   "outputs": [
    {
     "name": "stdout",
     "output_type": "stream",
     "text": [
      "                                original_title\n",
      "0  Pirates of the Caribbean: On Stranger Tides\n",
      "1     Pirates of the Caribbean: At World's End\n",
      "2                      Avengers: Age of Ultron\n"
     ]
    }
   ],
   "source": [
    "q9 = \"\"\"SELECT original_title FROM movies ORDER BY budget DESC LIMIT 3\"\"\"\n",
    "r9 = pd.read_sql(q9, db)\n",
    "print(r9)"
   ]
  },
  {
   "cell_type": "markdown",
   "id": "70c8a03a",
   "metadata": {
    "papermill": {
     "duration": 0.006847,
     "end_time": "2025-03-22T10:04:25.009811",
     "exception": false,
     "start_time": "2025-03-22T10:04:25.002964",
     "status": "completed"
    },
    "tags": []
   },
   "source": [
    "# QUERY 10: What is the most awarded average vote since the January 1st, 2000?"
   ]
  },
  {
   "cell_type": "code",
   "execution_count": 14,
   "id": "4eaa6935",
   "metadata": {
    "execution": {
     "iopub.execute_input": "2025-03-22T10:04:25.025563Z",
     "iopub.status.busy": "2025-03-22T10:04:25.025158Z",
     "iopub.status.idle": "2025-03-22T10:04:25.490410Z",
     "shell.execute_reply": "2025-03-22T10:04:25.489211Z"
    },
    "papermill": {
     "duration": 0.475141,
     "end_time": "2025-03-22T10:04:25.492234",
     "exception": false,
     "start_time": "2025-03-22T10:04:25.017093",
     "status": "completed"
    },
    "tags": []
   },
   "outputs": [
    {
     "name": "stdout",
     "output_type": "stream",
     "text": [
      "  original_title  vote_average\n",
      "0      Sardaarji           9.5\n"
     ]
    }
   ],
   "source": [
    "q10 = \"\"\"SELECT original_title, vote_average FROM movies WHERE release_date > \"2000-01-01\" ORDER BY vote_average DESC LIMIT 1\"\"\"\n",
    "r10 = pd.read_sql(q10, db)\n",
    "print(r10)"
   ]
  },
  {
   "cell_type": "markdown",
   "id": "7ad5b111",
   "metadata": {
    "papermill": {
     "duration": 0.007442,
     "end_time": "2025-03-22T10:04:25.507164",
     "exception": false,
     "start_time": "2025-03-22T10:04:25.499722",
     "status": "completed"
    },
    "tags": []
   },
   "source": [
    "# QUERY 11: Which movie(s) were directed by Brenda Chapman?"
   ]
  },
  {
   "cell_type": "code",
   "execution_count": 15,
   "id": "1e657348",
   "metadata": {
    "execution": {
     "iopub.execute_input": "2025-03-22T10:04:25.522705Z",
     "iopub.status.busy": "2025-03-22T10:04:25.522185Z",
     "iopub.status.idle": "2025-03-22T10:04:25.996934Z",
     "shell.execute_reply": "2025-03-22T10:04:25.995714Z"
    },
    "papermill": {
     "duration": 0.484665,
     "end_time": "2025-03-22T10:04:25.998971",
     "exception": false,
     "start_time": "2025-03-22T10:04:25.514306",
     "status": "completed"
    },
    "tags": []
   },
   "outputs": [
    {
     "name": "stdout",
     "output_type": "stream",
     "text": [
      "  original_title\n",
      "0          Brave\n"
     ]
    }
   ],
   "source": [
    "q11 = \"\"\"SELECT M.original_title From movies AS M JOIN directors AS D ON M.director_id = D.id WHERE name == 'Brenda Chapman'\"\"\"\n",
    "r11 = pd.read_sql(q11, db)\n",
    "print(r11)"
   ]
  },
  {
   "cell_type": "markdown",
   "id": "fedcf7a8",
   "metadata": {
    "papermill": {
     "duration": 0.007834,
     "end_time": "2025-03-22T10:04:26.014271",
     "exception": false,
     "start_time": "2025-03-22T10:04:26.006437",
     "status": "completed"
    },
    "tags": []
   },
   "source": [
    "# QUERY 12:Which director is the most bankable?"
   ]
  },
  {
   "cell_type": "code",
   "execution_count": 16,
   "id": "c97f2e3d",
   "metadata": {
    "execution": {
     "iopub.execute_input": "2025-03-22T10:04:26.031447Z",
     "iopub.status.busy": "2025-03-22T10:04:26.031056Z",
     "iopub.status.idle": "2025-03-22T10:04:26.458780Z",
     "shell.execute_reply": "2025-03-22T10:04:26.457449Z"
    },
    "papermill": {
     "duration": 0.438105,
     "end_time": "2025-03-22T10:04:26.460459",
     "exception": false,
     "start_time": "2025-03-22T10:04:26.022354",
     "status": "completed"
    },
    "tags": []
   },
   "outputs": [
    {
     "name": "stdout",
     "output_type": "stream",
     "text": [
      "               name  SUM(revenue)\n",
      "0  Steven Spielberg    9147393164\n"
     ]
    }
   ],
   "source": [
    "q12 = \"\"\"SELECT name, SUM(revenue) FROM movies JOIN directors ON directors.id = movies.director_id GROUP BY director_id ORDER BY SUM(revenue) DESC LIMIT 1\"\"\"\n",
    "r12 = pd.read_sql(q12,db)\n",
    "print(r12)"
   ]
  },
  {
   "cell_type": "markdown",
   "id": "8f9dbc6b",
   "metadata": {
    "papermill": {
     "duration": 0.007609,
     "end_time": "2025-03-22T10:04:26.475701",
     "exception": false,
     "start_time": "2025-03-22T10:04:26.468092",
     "status": "completed"
    },
    "tags": []
   },
   "source": [
    "# QUERY 13: Find the average Budget of all the movies?"
   ]
  },
  {
   "cell_type": "code",
   "execution_count": 17,
   "id": "77fdf964",
   "metadata": {
    "execution": {
     "iopub.execute_input": "2025-03-22T10:04:26.491907Z",
     "iopub.status.busy": "2025-03-22T10:04:26.491552Z",
     "iopub.status.idle": "2025-03-22T10:04:26.915141Z",
     "shell.execute_reply": "2025-03-22T10:04:26.913566Z"
    },
    "papermill": {
     "duration": 0.434428,
     "end_time": "2025-03-22T10:04:26.917342",
     "exception": false,
     "start_time": "2025-03-22T10:04:26.482914",
     "status": "completed"
    },
    "tags": []
   },
   "outputs": [
    {
     "name": "stdout",
     "output_type": "stream",
     "text": [
      "   average_budget\n",
      "0    2.922461e+07\n"
     ]
    }
   ],
   "source": [
    "q13 = \"\"\"SELECT AVG(budget) AS average_budget FROM movies \"\"\"\n",
    "r13 = pd.read_sql(q13, db)\n",
    "print(r13)"
   ]
  },
  {
   "cell_type": "markdown",
   "id": "a73ce063",
   "metadata": {
    "papermill": {
     "duration": 0.008943,
     "end_time": "2025-03-22T10:04:26.936188",
     "exception": false,
     "start_time": "2025-03-22T10:04:26.927245",
     "status": "completed"
    },
    "tags": []
   },
   "source": [
    "# QUERY 14: Find out all the movies that were released after 2011-01-01?"
   ]
  },
  {
   "cell_type": "code",
   "execution_count": 18,
   "id": "e303e8b2",
   "metadata": {
    "execution": {
     "iopub.execute_input": "2025-03-22T10:04:26.957625Z",
     "iopub.status.busy": "2025-03-22T10:04:26.957184Z",
     "iopub.status.idle": "2025-03-22T10:04:27.387707Z",
     "shell.execute_reply": "2025-03-22T10:04:27.386505Z"
    },
    "papermill": {
     "duration": 0.445376,
     "end_time": "2025-03-22T10:04:27.389678",
     "exception": false,
     "start_time": "2025-03-22T10:04:26.944302",
     "status": "completed"
    },
    "tags": []
   },
   "outputs": [
    {
     "name": "stdout",
     "output_type": "stream",
     "text": [
      "                    original_title\n",
      "0                           Avatar\n",
      "1                          Spectre\n",
      "2            The Dark Knight Rises\n",
      "3                      John Carter\n",
      "4                          Tangled\n",
      "...                            ...\n",
      "1672      All Superheroes Must Die\n",
      "1673  Sanctuary: Quite a Conundrum\n",
      "1674                     Newlyweds\n",
      "1675     Signed, Sealed, Delivered\n",
      "1676              Shanghai Calling\n",
      "\n",
      "[1677 rows x 1 columns]\n"
     ]
    }
   ],
   "source": [
    "q14 = \"\"\"SELECT original_title FROM movies WHERE release_date > 2011-01-01\"\"\"\n",
    "r14 = pd.read_sql(q14,db)\n",
    "print(r14)"
   ]
  },
  {
   "cell_type": "markdown",
   "id": "795127ea",
   "metadata": {
    "papermill": {
     "duration": 0.007271,
     "end_time": "2025-03-22T10:04:27.404879",
     "exception": false,
     "start_time": "2025-03-22T10:04:27.397608",
     "status": "completed"
    },
    "tags": []
   },
   "source": [
    "# QUERY 15: Name all the movies with popularity > 99?"
   ]
  },
  {
   "cell_type": "code",
   "execution_count": 19,
   "id": "0c375af5",
   "metadata": {
    "execution": {
     "iopub.execute_input": "2025-03-22T10:04:27.421466Z",
     "iopub.status.busy": "2025-03-22T10:04:27.420969Z",
     "iopub.status.idle": "2025-03-22T10:04:27.879180Z",
     "shell.execute_reply": "2025-03-22T10:04:27.877995Z"
    },
    "papermill": {
     "duration": 0.468763,
     "end_time": "2025-03-22T10:04:27.881002",
     "exception": false,
     "start_time": "2025-03-22T10:04:27.412239",
     "status": "completed"
    },
    "tags": []
   },
   "outputs": [
    {
     "name": "stdout",
     "output_type": "stream",
     "text": [
      "                              original_title\n",
      "0                                     Avatar\n",
      "1   Pirates of the Caribbean: At World's End\n",
      "2                                    Spectre\n",
      "3                      The Dark Knight Rises\n",
      "4                               Spider-Man 3\n",
      "..                                       ...\n",
      "86                              Pulp Fiction\n",
      "87                             The Godfather\n",
      "88           One Flew Over the Cuckoo's Nest\n",
      "89                                  Whiplash\n",
      "90                                It Follows\n",
      "\n",
      "[91 rows x 1 columns]\n"
     ]
    }
   ],
   "source": [
    "q15 = \"\"\"SELECT original_title FROM movies WHERE popularity > 99\"\"\"\n",
    "r15 = pd.read_sql(q15, db)\n",
    "print(r15)"
   ]
  }
 ],
 "metadata": {
  "kaggle": {
   "accelerator": "none",
   "dataSources": [
    {
     "datasetId": 982232,
     "sourceId": 1659117,
     "sourceType": "datasetVersion"
    }
   ],
   "dockerImageVersionId": 30918,
   "isGpuEnabled": false,
   "isInternetEnabled": false,
   "language": "python",
   "sourceType": "notebook"
  },
  "kernelspec": {
   "display_name": "Python 3",
   "language": "python",
   "name": "python3"
  },
  "language_info": {
   "codemirror_mode": {
    "name": "ipython",
    "version": 3
   },
   "file_extension": ".py",
   "mimetype": "text/x-python",
   "name": "python",
   "nbconvert_exporter": "python",
   "pygments_lexer": "ipython3",
   "version": "3.10.12"
  },
  "papermill": {
   "default_parameters": {},
   "duration": 9.775462,
   "end_time": "2025-03-22T10:04:28.509797",
   "environment_variables": {},
   "exception": null,
   "input_path": "__notebook__.ipynb",
   "output_path": "__notebook__.ipynb",
   "parameters": {},
   "start_time": "2025-03-22T10:04:18.734335",
   "version": "2.6.0"
  }
 },
 "nbformat": 4,
 "nbformat_minor": 5
}
